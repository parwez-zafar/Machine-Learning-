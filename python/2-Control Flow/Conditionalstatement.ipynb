{
 "cells": [
  {
   "cell_type": "code",
   "execution_count": 1,
   "id": "8133a355",
   "metadata": {},
   "outputs": [
    {
     "name": "stdout",
     "output_type": "stream",
     "text": [
      "age is grate than 10\n"
     ]
    }
   ],
   "source": [
    "## if statement \n",
    "\n",
    "age = 20\n",
    "\n",
    "if age >= 10:\n",
    "    print(\"age is grate than 10\")"
   ]
  },
  {
   "cell_type": "code",
   "execution_count": null,
   "id": "37fc0e40",
   "metadata": {},
   "outputs": [],
   "source": [
    "## else statement\n",
    "\n",
    "age = 16\n",
    "if age >= 18:\n",
    "    print(\"Age is greater than or equal to 18\")\n",
    "else : \n",
    "    print(\"age is lesser than 16\")"
   ]
  },
  {
   "cell_type": "code",
   "execution_count": null,
   "id": "05de8cb6",
   "metadata": {},
   "outputs": [
    {
     "name": "stdout",
     "output_type": "stream",
     "text": [
      "You are an adult\n"
     ]
    }
   ],
   "source": [
    "## elif statement \n",
    "\n",
    "## The elid statement allows you to check multiple conditions. It stand for \"else if\"\n",
    "\n",
    "age = 20\n",
    "\n",
    "if (age < 13) :\n",
    "    print(\"You are child\")\n",
    "elif (age < 18) : \n",
    "    print(\"You are a teenager\")\n",
    "else : \n",
    "    print(\"You are an adult\")"
   ]
  },
  {
   "cell_type": "code",
   "execution_count": null,
   "id": "11f12c92",
   "metadata": {},
   "outputs": [
    {
     "name": "stdout",
     "output_type": "stream",
     "text": [
      "Number is multiple of 3 and number is lesser than or equal to 15\n"
     ]
    }
   ],
   "source": [
    "## Nested Conditional statement\n",
    "## you can put more than one if or else statement in side a if statement\n",
    "\n",
    "age = 15\n",
    "if age > 15 :\n",
    "    if (15 % 3 == 0) : \n",
    "        print(\"Number if multiple of 3 and greater than 15\")\n",
    "    else : \n",
    "        print(\"Number if not a multiple of 3 and greater than 15\")\n",
    "else : \n",
    "    if (15 % 3 == 0) : \n",
    "        print(\"Number is multiple of 3 and number is lesser than or equal to 15\")\n",
    "    else : \n",
    "        print(\"Number of not a multiple of 3 and Then Number is lesser than or equal to 15\")\n"
   ]
  }
 ],
 "metadata": {
  "kernelspec": {
   "display_name": "Python 3",
   "language": "python",
   "name": "python3"
  },
  "language_info": {
   "codemirror_mode": {
    "name": "ipython",
    "version": 3
   },
   "file_extension": ".py",
   "mimetype": "text/x-python",
   "name": "python",
   "nbconvert_exporter": "python",
   "pygments_lexer": "ipython3",
   "version": "3.12.0"
  }
 },
 "nbformat": 4,
 "nbformat_minor": 5
}
