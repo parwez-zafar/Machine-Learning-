{
 "cells": [
  {
   "cell_type": "code",
   "execution_count": 1,
   "id": "b9fd2521",
   "metadata": {},
   "outputs": [
    {
     "name": "stdout",
     "output_type": "stream",
     "text": [
      "Age: 32\n",
      "Height: 5.9\n",
      "Name: Parwez\n"
     ]
    }
   ],
   "source": [
    "## Introduction to Variables.\n",
    "## Declaring And Assigning Variables\n",
    "age = 32\n",
    "height = 5.9\n",
    "name = \"Parwez\"\n",
    "\n",
    "## Printing Variables\n",
    "print(\"Age:\", age)\n",
    "print(\"Height:\", height)\n",
    "print(\"Name:\", name)"
   ]
  },
  {
   "cell_type": "code",
   "execution_count": null,
   "id": "42c6b99e",
   "metadata": {},
   "outputs": [
    {
     "name": "stdout",
     "output_type": "stream",
     "text": [
      "Full Name: John Doe\n"
     ]
    }
   ],
   "source": [
    "## Name Conventions\n",
    "# Variable names can contain letters, numbers, and underscores.\n",
    "# They cannot start with a number.\n",
    "# Variable names are case-sensitive.\n",
    "# Common naming conventions:\n",
    "# - Use lowercase letters for variable names (e.g., `my_variable`).\n",
    "# They must start with a letter or underscore.\n",
    "# - Use underscores to separate words (e.g., `my_variable`).\n",
    "\n",
    "first_name = \"John\"\n",
    "last_name = \"Doe\"\n",
    "full_name = first_name + \" \" + last_name\n",
    "print(\"Full Name:\", full_name)\n",
    "\n",
    "# Avoid using reserved keywords as variable names (e.g., `if`, `else`, `while`)."
   ]
  },
  {
   "cell_type": "code",
   "execution_count": null,
   "id": "c24ca382",
   "metadata": {},
   "outputs": [],
   "source": [
    "# Understanding Variable types\n",
    "# Python is dynamically typed, meaning you don't need to declare the type of a variable explicitly.\n",
    "#  variables is determined at the runtime\n",
    "\n",
    "age = 32  # Integer\n",
    "height = 5.9  # Float\n",
    "name = \"Parwez\"  # String\n",
    "is_student = True  # Boolean\n",
    "# You can check the type of a variable using the `type()` function."
   ]
  },
  {
   "cell_type": "code",
   "execution_count": 5,
   "id": "27ca924c",
   "metadata": {},
   "outputs": [
    {
     "name": "stdout",
     "output_type": "stream",
     "text": [
      "Age as string: 24\n",
      "Type of age_str: <class 'str'>\n",
      "Age as integer: 24\n"
     ]
    },
    {
     "ename": "ValueError",
     "evalue": "invalid literal for int() with base 10: 'Parwez'",
     "output_type": "error",
     "traceback": [
      "\u001b[31m---------------------------------------------------------------------------\u001b[39m",
      "\u001b[31mValueError\u001b[39m                                Traceback (most recent call last)",
      "\u001b[36mCell\u001b[39m\u001b[36m \u001b[39m\u001b[32mIn[5]\u001b[39m\u001b[32m, line 13\u001b[39m\n\u001b[32m     10\u001b[39m \u001b[38;5;28mprint\u001b[39m(\u001b[33m\"\u001b[39m\u001b[33mAge as integer:\u001b[39m\u001b[33m\"\u001b[39m, age_int)\n\u001b[32m     12\u001b[39m name = \u001b[33m\"\u001b[39m\u001b[33mParwez\u001b[39m\u001b[33m\"\u001b[39m\n\u001b[32m---> \u001b[39m\u001b[32m13\u001b[39m name_int = \u001b[38;5;28;43mint\u001b[39;49m\u001b[43m(\u001b[49m\u001b[43mname\u001b[49m\u001b[43m)\u001b[49m  \u001b[38;5;66;03m# This will raise an error because \"Parwez\" cannot be converted to an integer\u001b[39;00m\n",
      "\u001b[31mValueError\u001b[39m: invalid literal for int() with base 10: 'Parwez'"
     ]
    }
   ],
   "source": [
    "# Type Conversion\n",
    "age = 24\n",
    "\n",
    "age_str = str(age)  # Convert integer to string\n",
    "print(\"Age as string:\", age_str)\n",
    "print(\"Type of age_str:\", type(age_str))\n",
    "\n",
    "age = \"24\"\n",
    "age_int = int(age)  # Convert string to integer\n",
    "print(\"Age as integer:\", age_int)\n",
    "\n",
    "name = \"Parwez\"\n",
    "name_int = int(name)  # This will raise an error because \"Parwez\" cannot be converted to an integer"
   ]
  },
  {
   "cell_type": "code",
   "execution_count": 6,
   "id": "19bfe038",
   "metadata": {},
   "outputs": [
    {
     "name": "stdout",
     "output_type": "stream",
     "text": [
      "Hello <class 'str'>\n"
     ]
    }
   ],
   "source": [
    "#Dynamic Typing\n",
    "## Python allows the type of variable o change as the program executes\n",
    "var = 10  # Initially an integer\n",
    "var = \"Hello\"  # Now a string\n",
    "\n",
    "print(var, type(var))"
   ]
  },
  {
   "cell_type": "code",
   "execution_count": 1,
   "id": "48fe80cf",
   "metadata": {},
   "outputs": [
    {
     "name": "stdout",
     "output_type": "stream",
     "text": [
      "12\n"
     ]
    }
   ],
   "source": [
    "## input\n",
    "age = input(\"What is the age\")\n",
    "print(age)"
   ]
  },
  {
   "cell_type": "code",
   "execution_count": 2,
   "id": "a0a8a6d8",
   "metadata": {},
   "outputs": [
    {
     "name": "stdout",
     "output_type": "stream",
     "text": [
      "Sum: 19.0\n",
      "Difference: 9.0\n",
      "Product: 70.0\n",
      "Quotient: 2.8\n"
     ]
    }
   ],
   "source": [
    "# simple calculator\n",
    "num1 = float(input(\"Enter first number: \"))\n",
    "num2 = float(input(\"Enter second number: \"))\n",
    "\n",
    "sum = num1 + num2\n",
    "difference = num1 - num2\n",
    "product = num1 * num2\n",
    "quotient = num1 / num2\n",
    "\n",
    "print(\"Sum:\", sum)\n",
    "print(\"Difference:\", difference)\n",
    "print(\"Product:\", product)\n",
    "print(\"Quotient:\", quotient)"
   ]
  }
 ],
 "metadata": {
  "kernelspec": {
   "display_name": "venv",
   "language": "python",
   "name": "python3"
  },
  "language_info": {
   "codemirror_mode": {
    "name": "ipython",
    "version": 3
   },
   "file_extension": ".py",
   "mimetype": "text/x-python",
   "name": "python",
   "nbconvert_exporter": "python",
   "pygments_lexer": "ipython3",
   "version": "3.12.0"
  }
 },
 "nbformat": 4,
 "nbformat_minor": 5
}
