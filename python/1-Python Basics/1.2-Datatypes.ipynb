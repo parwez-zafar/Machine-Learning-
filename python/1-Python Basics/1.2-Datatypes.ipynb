{
 "cells": [
  {
   "cell_type": "code",
   "execution_count": 7,
   "id": "d64487cd",
   "metadata": {},
   "outputs": [
    {
     "name": "stdout",
     "output_type": "stream",
     "text": [
      "5.9\n",
      "<class 'float'>\n",
      "True\n",
      "<class 'bool'>\n",
      "Hello5\n"
     ]
    }
   ],
   "source": [
    "## Introduction to Data Types in Python\n",
    "## Integers\n",
    "age = 24\n",
    "type(age)\n",
    "\n",
    "## floting point datatype\n",
    "\n",
    "height = 5.9\n",
    "print(height)\n",
    "print(type(height))\n",
    "\n",
    "## boolean datatype\n",
    "is_student = True\n",
    "print(is_student)\n",
    "print(type(is_student))\n",
    "\n",
    "## common errors\n",
    "result = \"Hello\" + str(5)\n",
    "print(result)"
   ]
  },
  {
   "cell_type": "code",
   "execution_count": null,
   "id": "5df0e557",
   "metadata": {},
   "outputs": [],
   "source": []
  }
 ],
 "metadata": {
  "kernelspec": {
   "display_name": "Python 3",
   "language": "python",
   "name": "python3"
  },
  "language_info": {
   "codemirror_mode": {
    "name": "ipython",
    "version": 3
   },
   "file_extension": ".py",
   "mimetype": "text/x-python",
   "name": "python",
   "nbconvert_exporter": "python",
   "pygments_lexer": "ipython3",
   "version": "3.12.0"
  }
 },
 "nbformat": 4,
 "nbformat_minor": 5
}
