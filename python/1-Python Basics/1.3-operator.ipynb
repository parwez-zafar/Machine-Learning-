{
 "cells": [
  {
   "cell_type": "code",
   "execution_count": 1,
   "id": "3c498834",
   "metadata": {},
   "outputs": [
    {
     "name": "stdout",
     "output_type": "stream",
     "text": [
      "Addition: 21\n",
      "Subtraction: 1\n",
      "Multiplication: 110\n",
      "Division: 1.1\n",
      "Modulus: 1\n"
     ]
    }
   ],
   "source": [
    "## Operators in Python\n",
    "\n",
    "# Arithmetic Operators\n",
    "num1 = 11\n",
    "num2 = 10\n",
    "\n",
    "addition_operator = num1 + num2\n",
    "subsctration_operator = num1 - num2\n",
    "multiplication_operator = num1 * num2\n",
    "division_operator = num1 / num2\n",
    "modulus_operator = num1 % num2\n",
    "\n",
    "print(\"Addition:\", addition_operator)\n",
    "print(\"Subtraction:\", subsctration_operator)\n",
    "print(\"Multiplication:\", multiplication_operator)\n",
    "print(\"Division:\", division_operator)\n",
    "print(\"Modulus:\", modulus_operator)\n",
    "\n"
   ]
  }
 ],
 "metadata": {
  "kernelspec": {
   "display_name": "Python 3",
   "language": "python",
   "name": "python3"
  },
  "language_info": {
   "codemirror_mode": {
    "name": "ipython",
    "version": 3
   },
   "file_extension": ".py",
   "mimetype": "text/x-python",
   "name": "python",
   "nbconvert_exporter": "python",
   "pygments_lexer": "ipython3",
   "version": "3.12.0"
  }
 },
 "nbformat": 4,
 "nbformat_minor": 5
}
