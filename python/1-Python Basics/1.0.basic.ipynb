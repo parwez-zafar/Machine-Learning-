{
 "cells": [
  {
   "cell_type": "code",
   "execution_count": 13,
   "id": "25c8f58c",
   "metadata": {},
   "outputs": [
    {
     "name": "stdout",
     "output_type": "stream",
     "text": [
      "Parwez\n",
      "zafar\n"
     ]
    }
   ],
   "source": [
    "## Basic syntax Rule In Python\n",
    "## Case sensitivity\n",
    "\n",
    "name=\"Parwez\"\n",
    "Name=\"zafar\"\n",
    "print(name)\n",
    "print(Name)"
   ]
  },
  {
   "cell_type": "code",
   "execution_count": null,
   "id": "302ad3a5",
   "metadata": {},
   "outputs": [
    {
     "name": "stdout",
     "output_type": "stream",
     "text": [
      "lesser than or equalto 24\n"
     ]
    }
   ],
   "source": [
    "## Indentation\n",
    "## Python uses indentation to define block of code. Consistent use of space (commonly 4) or a tab is required.\n",
    "\n",
    "age = 24\n",
    "if age > 24 :\n",
    "    print(\"greater than 24\")\n",
    "else:\n",
    "    print(\"lesser than or equalto 24\")\n"
   ]
  },
  {
   "cell_type": "code",
   "execution_count": 18,
   "id": "d0588bd6",
   "metadata": {},
   "outputs": [
    {
     "name": "stdout",
     "output_type": "stream",
     "text": [
      "15\n"
     ]
    }
   ],
   "source": [
    "## Multiple  Statement on a single line\n",
    "x=5;y=10;z=x+y\n",
    "print(z)"
   ]
  },
  {
   "cell_type": "code",
   "execution_count": 23,
   "id": "322431ee",
   "metadata": {},
   "outputs": [
    {
     "name": "stdout",
     "output_type": "stream",
     "text": [
      "<class 'int'>\n",
      "<class 'str'>\n"
     ]
    }
   ],
   "source": [
    "## Understand Sementics In Python\n",
    "## Python is a dynamically typed language, meaning you don't need to declare the type of a variable when you create one.\n",
    "## Variable assignment\n",
    "age=32\n",
    "name=\"Parwez\"\n",
    "\n",
    "## type Inference\n",
    "variable = 10\n",
    "print(type(variable))  # Output: <class 'int'>\n",
    "variable = \"Hello\"\n",
    "print(type(variable))  # Output: <class 'str'>\n"
   ]
  }
 ],
 "metadata": {
  "kernelspec": {
   "display_name": "Python 3",
   "language": "python",
   "name": "python3"
  },
  "language_info": {
   "codemirror_mode": {
    "name": "ipython",
    "version": 3
   },
   "file_extension": ".py",
   "mimetype": "text/x-python",
   "name": "python",
   "nbconvert_exporter": "python",
   "pygments_lexer": "ipython3",
   "version": "3.12.0"
  }
 },
 "nbformat": 4,
 "nbformat_minor": 5
}
